{
 "cells": [
  {
   "cell_type": "code",
   "execution_count": 1,
   "id": "db899278",
   "metadata": {},
   "outputs": [],
   "source": [
    "#  What is List? How will you reverse a list?\n",
    "# list is a combination of all different types of elements which has address of eaach elements"
   ]
  },
  {
   "cell_type": "code",
   "execution_count": 2,
   "id": "3523cd07",
   "metadata": {},
   "outputs": [
    {
     "name": "stdout",
     "output_type": "stream",
     "text": [
      "['a', 'b', 'c']\n"
     ]
    }
   ],
   "source": [
    "#How will you remove last object from a list?\n",
    "list1=['a','b','c','d']\n",
    "list1.pop(-1)\n",
    "print(list1)"
   ]
  },
  {
   "cell_type": "code",
   "execution_count": 4,
   "id": "9a6c9d3a",
   "metadata": {},
   "outputs": [
    {
     "name": "stdout",
     "output_type": "stream",
     "text": [
      "25\n"
     ]
    }
   ],
   "source": [
    "# Suppose list1 is [2, 33, 222, 14, and 25], what is list1 [-1]?\n",
    "list1 = [2, 33, 222, 14,25]\n",
    "print(list1[-1])"
   ]
  },
  {
   "cell_type": "code",
   "execution_count": 5,
   "id": "e2e24805",
   "metadata": {},
   "outputs": [],
   "source": [
    "# Differentiate between append () and extend () methods?\n",
    "\n",
    "# append() method adds the value at last in the specified string and also adds whole list1 as an  single item in list\n",
    "\n",
    "# list1.extend(list2) # adds list 2 elements to list1 ands returns output as a new list"
   ]
  },
  {
   "cell_type": "code",
   "execution_count": 7,
   "id": "eeadd9ea",
   "metadata": {
    "scrolled": true
   },
   "outputs": [
    {
     "name": "stdout",
     "output_type": "stream",
     "text": [
      "Enter no of elements:3\n",
      "Enter a number1\n",
      "Enter a number9\n",
      "Enter a number5\n",
      "Min: 1\n",
      "Max: 9\n",
      "Sum: 15\n"
     ]
    }
   ],
   "source": [
    "# Write a Python function to get the largest number, smallest num and sum of all from a list.\n",
    "list1=[]\n",
    "a=int(input(\"Enter no of elements:\"))\n",
    "for i in range(a):\n",
    "    x=int(input(\"Enter a number:\"))\n",
    "    list1.append(x)\n",
    "list1.sort()\n",
    "print(\"Min:\",list1[0])\n",
    "print(\"Max:\",list1[-1])\n",
    "print(\"Sum:\",sum(list1))"
   ]
  },
  {
   "cell_type": "code",
   "execution_count": 11,
   "id": "a98da650",
   "metadata": {
    "scrolled": true
   },
   "outputs": [
    {
     "name": "stdout",
     "output_type": "stream",
     "text": [
      "True\n"
     ]
    }
   ],
   "source": [
    "# How will you compare two lists?\n",
    "# By using \"is\" operator \n",
    "# for eg:\n",
    "l1=[5]\n",
    "l2=l1\n",
    "print(l1 is l2)"
   ]
  },
  {
   "cell_type": "code",
   "execution_count": null,
   "id": "ef9e5704",
   "metadata": {},
   "outputs": [],
   "source": [
    "#Write a Python program to count the number of strings where the string \n",
    "#length is 2 or more and the first and last character are same from a given \n",
    "#list of strings.\n",
    "\n",
    "list1 = []\n",
    "count = 0\n",
    "a = int(input(\"enter how many elements you want in a list : \"))\n",
    "for i in range(a):\n",
    "    b = input(\"enter number to add in list : \")\n",
    "    list1.append(b)\n",
    "print(list1)\n",
    "for i in list1:\n",
    "    if len(i) >= 2 and i[0] == i[-1] :\n",
    "        count += 1\n",
    "print(\"number of string with the above given condition = \",count)"
   ]
  },
  {
   "cell_type": "code",
   "execution_count": 13,
   "id": "205d2ef2",
   "metadata": {},
   "outputs": [
    {
     "name": "stdout",
     "output_type": "stream",
     "text": [
      "[7, 5, 1, 2]\n"
     ]
    }
   ],
   "source": [
    "# Write a Python program to remove duplicates from a list.\n",
    "\n",
    "l1 = [7,5,1,5,2,7]\n",
    "l2 = []\n",
    "for i in l1 :\n",
    "    if i not in l2:\n",
    "        l2.append(i)\n",
    "print(l2)"
   ]
  },
  {
   "cell_type": "code",
   "execution_count": 16,
   "id": "38de4c9d",
   "metadata": {
    "scrolled": true
   },
   "outputs": [
    {
     "name": "stdout",
     "output_type": "stream",
     "text": [
      "Not empty\n"
     ]
    }
   ],
   "source": [
    "# Write a Python program to check a list is empty or not.\n",
    "\n",
    "l1=[5,4,9]\n",
    "if len(l1)==0:\n",
    "    print(\"Empty list\")\n",
    "else :\n",
    "    print(\"Not empty\")"
   ]
  },
  {
   "cell_type": "code",
   "execution_count": null,
   "id": "78581819",
   "metadata": {},
   "outputs": [],
   "source": [
    "# Write a Python function that takes two lists and returns true if they have at least one common member.\n",
    "\n",
    "def fun(list1,list2):\n",
    "    answer = False\n",
    "    for i in list1:\n",
    "        for j in list2:\n",
    "            if i == j:\n",
    "                answer = True\n",
    "            return answer\n",
    "list1 = [1,2,3,4,5]\n",
    "list2 = [1,5,7,8,9]\n",
    "fun(list1,list2)"
   ]
  },
  {
   "cell_type": "code",
   "execution_count": null,
   "id": "335a7cb4",
   "metadata": {},
   "outputs": [],
   "source": [
    "##### Write a Python program to generate and print a list of first and last 5 elements where the values are square of numbers \n",
    "# between 1 and 30.\n",
    "\n",
    "list1 = []\n",
    "list2 = []\n",
    "for i in range(1,31):\n",
    "    list1.append(i**2)\n",
    "list2.extend(list1[:5])\n",
    "list2.extend(list1[-5:])\n",
    "print(list2)"
   ]
  }
 ],
 "metadata": {
  "kernelspec": {
   "display_name": "Python 3 (ipykernel)",
   "language": "python",
   "name": "python3"
  },
  "language_info": {
   "codemirror_mode": {
    "name": "ipython",
    "version": 3
   },
   "file_extension": ".py",
   "mimetype": "text/x-python",
   "name": "python",
   "nbconvert_exporter": "python",
   "pygments_lexer": "ipython3",
   "version": "3.9.12"
  }
 },
 "nbformat": 4,
 "nbformat_minor": 5
}
