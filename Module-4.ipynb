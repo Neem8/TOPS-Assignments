{
 "cells": [
  {
   "cell_type": "code",
   "execution_count": null,
   "id": "2fe03500",
   "metadata": {},
   "outputs": [],
   "source": [
    "# What is File function in python? What is keywords to create and write file\n",
    "\n",
    "# file function is nothing but function which returns the object of the file.it is used to create or modify the file.\n",
    "# with open('path','x') and open('path','w') we can create and write file.for writing in a file we can also use write() or writelines()"
   ]
  },
  {
   "cell_type": "code",
   "execution_count": null,
   "id": "240cab72",
   "metadata": {},
   "outputs": [],
   "source": [
    "# Write a Python program to read an entire text file.\n",
    "\n",
    "f1 = open('sample.txt','r')\n",
    "f1.read()\n",
    "f1.close()"
   ]
  },
  {
   "cell_type": "code",
   "execution_count": null,
   "id": "59abbf53",
   "metadata": {},
   "outputs": [],
   "source": [
    "# Write a Python program to append text to a file and display the text.\n",
    "\n",
    "f2 = open('sample.txt','a')\n",
    "f2.write('java language\\nweb programming\\npython is easy\\n')\n",
    "f2.close()\n",
    "\n",
    "f3 = open('sample.txt','r')\n",
    "print('after appending text..')\n",
    "f3.read()\n",
    "f3.close()"
   ]
  },
  {
   "cell_type": "code",
   "execution_count": null,
   "id": "ec007c96",
   "metadata": {},
   "outputs": [],
   "source": [
    "# Write a Python program to read first n lines of a file.\n",
    "\n",
    "lines = int(input('enter number of lines to be read : '))\n",
    "f4 = open('sample.txt','r')\n",
    "for i in range(lines):\n",
    "    print(f4.readline())\n",
    "f4.close()"
   ]
  },
  {
   "cell_type": "code",
   "execution_count": null,
   "id": "f0abd949",
   "metadata": {},
   "outputs": [],
   "source": [
    "# Write a Python program to read last n lines of a file.\n",
    "\n",
    "n = int(input('enter number of lines to be read from end : '))\n",
    "f5 = open('sample.txt','r')\n",
    "a = f5.readlines()\n",
    "print(a[-n:])\n",
    "f5.close()"
   ]
  },
  {
   "cell_type": "code",
   "execution_count": null,
   "id": "19b4861c",
   "metadata": {},
   "outputs": [],
   "source": [
    "# Write a Python program to read a file line by line and store it into a list\n",
    "\n",
    "file = open('sample.txt','r')\n",
    "# l1 = []\n",
    "# for i in file:\n",
    "#     l1.append(i)\n",
    "# print(l1)\n",
    "\n",
    "# -----------or----------\n",
    "\n",
    "a = file.readlines()\n",
    "print(a)\n",
    "file.close()"
   ]
  },
  {
   "cell_type": "code",
   "execution_count": null,
   "id": "4e50b0ce",
   "metadata": {},
   "outputs": [],
   "source": [
    "# Write a Python program to read a file line by line store it into a variable.\n",
    "\n",
    "f1 = open('test.txt','r')\n",
    "a = f1.readlines()\n",
    "for i in range(len(a)):\n",
    "    print(f'var{i+1} = ',a[i])\n",
    "f1.close()"
   ]
  },
  {
   "cell_type": "code",
   "execution_count": null,
   "id": "516d92f3",
   "metadata": {},
   "outputs": [],
   "source": [
    "# Write a python program to find the longest words.\n",
    "\n",
    "file = open('test.txt','r')\n",
    "a = file.readlines()\n",
    "max = len(a[0])\n",
    "t = a[0]\n",
    "for i in a:\n",
    "    if(len(i)>max):\n",
    "        max = len(i)\n",
    "        t = i\n",
    "print(f\"the longest word is {t} with length {max}\")\n",
    "file.close()"
   ]
  },
  {
   "cell_type": "code",
   "execution_count": null,
   "id": "03e5dee5",
   "metadata": {},
   "outputs": [],
   "source": [
    "# Write a Python program to count the number of lines in a text file.\n",
    "\n",
    "f1 = open('sample.txt','r')\n",
    "count= len(f1.readlines())\n",
    "print(\"number of lines in a file = \",count)"
   ]
  },
  {
   "cell_type": "code",
   "execution_count": null,
   "id": "8b5c8be3",
   "metadata": {},
   "outputs": [],
   "source": [
    "# Write a Python program to count the frequency of words in a file.\n",
    "\n",
    "a=open('test.txt','r')\n",
    "d = dict()\n",
    "for i in a:\n",
    "    line = i.strip()\n",
    "    word = i.split(\" \")\n",
    "    for j in word:\n",
    "        if j in d:\n",
    "            d[j]=d[j]+1\n",
    "        else:\n",
    "            d[j]=1\n",
    "for i in (d.keys()):\n",
    "    print(f'{i}:{d[i]}')"
   ]
  },
  {
   "cell_type": "code",
   "execution_count": null,
   "id": "25216075",
   "metadata": {},
   "outputs": [],
   "source": [
    "# Write a Python program to write a list to a file.\n",
    "list1 = [1,2,3,4,5,'hii','how']\n",
    "f1 = open('test.txt','a')\n",
    "f1.write(str(list1))\n",
    "f1.close()"
   ]
  },
  {
   "cell_type": "code",
   "execution_count": null,
   "id": "e9937939",
   "metadata": {},
   "outputs": [],
   "source": [
    "# Write a Python program to copy the contents of a file to another file.\n",
    "\n",
    "a = open('sample.txt','w')\n",
    "b = open('test.txt','r')\n",
    "a.write(str(b.readlines()))\n",
    "a.close()\n",
    "b.close()"
   ]
  },
  {
   "cell_type": "code",
   "execution_count": null,
   "id": "477ca144",
   "metadata": {},
   "outputs": [],
   "source": [
    "# Explain Exception handling? What is an Error in Python?\n",
    "\n",
    "# exception handling is handling error while executing a program\n",
    "# errors are problems in the program ,when occur it stops the current execution"
   ]
  },
  {
   "cell_type": "code",
   "execution_count": null,
   "id": "73884d91",
   "metadata": {},
   "outputs": [],
   "source": [
    "# How many except statements can a try-except block have? Name Some built-in exception classes:\n",
    "\n",
    "# it can have min 1 except block\n",
    "# some built-in exception classes are:\n",
    "# AssertionError\n",
    "# ZeroDivisionError"
   ]
  },
  {
   "cell_type": "code",
   "execution_count": null,
   "id": "f4a1cb34",
   "metadata": {},
   "outputs": [],
   "source": [
    "# When will the else part of try-except-else be executed?\n",
    "\n",
    "# when no exception occurs"
   ]
  },
  {
   "cell_type": "code",
   "execution_count": null,
   "id": "656fd734",
   "metadata": {},
   "outputs": [],
   "source": [
    "# Can one block of except statements handle multiple exception?\n",
    "\n",
    "# no"
   ]
  },
  {
   "cell_type": "code",
   "execution_count": null,
   "id": "d7da2749",
   "metadata": {},
   "outputs": [],
   "source": [
    "# When is the finally block executed?\n",
    "\n",
    "# it will always execute after try-except block"
   ]
  },
  {
   "cell_type": "code",
   "execution_count": null,
   "id": "5369ca11",
   "metadata": {},
   "outputs": [],
   "source": [
    "# What happens when \"1\"== 1 is executed"
   ]
  },
  {
   "cell_type": "code",
   "execution_count": null,
   "id": "14dd0c54",
   "metadata": {},
   "outputs": [],
   "source": [
    "# How Do You Handle Exceptions With Try/Except/Finally In Python? Explain with coding snippets.\n",
    "\n",
    "def f1(a,b):\n",
    "    a = a + b\n",
    "    return a\n",
    "try:\n",
    "    print(f1(1,2))\n",
    "except:\n",
    "    print('error')\n",
    "finally:\n",
    "    print('finally block')"
   ]
  },
  {
   "cell_type": "code",
   "execution_count": null,
   "id": "7dfb4254",
   "metadata": {},
   "outputs": [],
   "source": [
    "# Write python program that user to enter only odd numbers, else will raise an exception.\n",
    "\n",
    "try:\n",
    "    a = int(input(\"enter number :\"))\n",
    "    if a%2==0:\n",
    "        print('enter oddnumber')\n",
    "except:\n",
    "    print(\"enter again\")\n",
    "    a = int(input(\"enter odd number \"))\n",
    "    if a%2!=0:\n",
    "        print('odd num')"
   ]
  },
  {
   "cell_type": "code",
   "execution_count": null,
   "id": "258aeebd",
   "metadata": {},
   "outputs": [],
   "source": [
    "# What are oops concepts? Is multiple inheritance supported in java\n",
    "\n",
    "# oops are the concepts related to class and objects\n",
    "# yes"
   ]
  },
  {
   "cell_type": "code",
   "execution_count": null,
   "id": "a298055f",
   "metadata": {},
   "outputs": [],
   "source": [
    "# How to Define a Class in Python? What Is Self? Give An Example Of A Python Class\n",
    "\n",
    "# class in python is defined using the class keyword\n",
    "# self is nothing but points to the current instance of the class\n",
    "# example\n",
    "\n",
    "class A:\n",
    "    fruit_name = 'mango'\n",
    "    def fruit(self):\n",
    "        print('fruit name')\n",
    "o1 = A()\n",
    "o1.fruit()"
   ]
  },
  {
   "cell_type": "code",
   "execution_count": null,
   "id": "c8246e7e",
   "metadata": {},
   "outputs": [],
   "source": [
    "# Write a Python class named Rectangle constructed by a length and width and a method which will compute the area of a rectangle\n",
    "\n",
    "class Rectangle():\n",
    "    def __init__(self, l, w):\n",
    "        self.length = l\n",
    "        self.width  = w\n",
    "\n",
    "    def rectangle_area(self):\n",
    "        return self.length*self.width\n",
    "\n",
    "Rect = Rectangle(5, 10)\n",
    "print(Rect.rectangle_area())"
   ]
  },
  {
   "cell_type": "code",
   "execution_count": null,
   "id": "c4e4be5c",
   "metadata": {},
   "outputs": [],
   "source": [
    "# Write a Python class named Circle constructed by a radius and two methods which will compute the area and the perimeter \n",
    "# of a circle\n",
    "\n",
    "class Circle():\n",
    "    def __init__(self, r):\n",
    "        self.radius = r\n",
    "\n",
    "    def area(self):\n",
    "        return self.radius**2*3.14\n",
    "    \n",
    "    def perimeter(self):\n",
    "        return 2*self.radius*3.14\n",
    "\n",
    "o1 = Circle(5)\n",
    "print(o1.area())\n",
    "print(o1.perimeter())"
   ]
  },
  {
   "cell_type": "code",
   "execution_count": null,
   "id": "17c15ffd",
   "metadata": {},
   "outputs": [],
   "source": [
    "# Explain Inheritance in Python with an example? What is init? Or What Is A Constructor In Python?\n",
    "\n",
    "# inheritance is the capability of one class to derive the properties from another class. \n",
    "# inti creates object in a class,it is a special method in class/it is also called as constructor\n",
    "\n",
    "# example\n",
    "\n",
    "class A:\n",
    "    school_name = 'gajera'\n",
    "    def __init__(self,age,height):\n",
    "        self.age=age\n",
    "        self.height=height\n",
    "    def name(self):\n",
    "        print('hello..')\n",
    "a1 = A(20,5.11)\n",
    "a1.age"
   ]
  },
  {
   "cell_type": "code",
   "execution_count": null,
   "id": "03e125a9",
   "metadata": {},
   "outputs": [],
   "source": [
    "# What is Instantiation in terms of OOP terminology?\n",
    "\n",
    "# instantiation describes the processes of creating a new object for a class using a new keyword."
   ]
  },
  {
   "cell_type": "code",
   "execution_count": null,
   "id": "d7a686fb",
   "metadata": {},
   "outputs": [],
   "source": [
    "# What is used to check whether an object o is an instance of class A?\n",
    "\n",
    "# The isinstance() function"
   ]
  },
  {
   "cell_type": "code",
   "execution_count": null,
   "id": "4bc46aba",
   "metadata": {},
   "outputs": [],
   "source": [
    "# What relationship is appropriate for Course and Faculty?\n",
    "\n",
    "#association"
   ]
  },
  {
   "cell_type": "code",
   "execution_count": null,
   "id": "b4e678b1",
   "metadata": {},
   "outputs": [],
   "source": [
    "# What relationship is appropriate for Student and Person?\n",
    "\n",
    "# inheritence"
   ]
  }
 ],
 "metadata": {
  "kernelspec": {
   "display_name": "Python 3 (ipykernel)",
   "language": "python",
   "name": "python3"
  },
  "language_info": {
   "codemirror_mode": {
    "name": "ipython",
    "version": 3
   },
   "file_extension": ".py",
   "mimetype": "text/x-python",
   "name": "python",
   "nbconvert_exporter": "python",
   "pygments_lexer": "ipython3",
   "version": "3.9.12"
  }
 },
 "nbformat": 4,
 "nbformat_minor": 5
}
