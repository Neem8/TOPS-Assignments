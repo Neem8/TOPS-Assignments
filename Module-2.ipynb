{
 "cells": [
  {
   "cell_type": "code",
   "execution_count": null,
   "id": "650f530e",
   "metadata": {},
   "outputs": [],
   "source": [
    "# Write a Python program to check if a number is positive, negative or zero.\n",
    "\n",
    "n=int(input(\"Enter a number:\"))\n",
    "if(n>0):\n",
    "    print(\"It is a positive number.\")\n",
    "elif(n<0):\n",
    "    print(\"It is a negative number.\")\n",
    "else:\n",
    "    print(\"It is Zero\")"
   ]
  },
  {
   "cell_type": "code",
   "execution_count": null,
   "id": "96556fcc",
   "metadata": {},
   "outputs": [],
   "source": [
    "# Write a Python program to get the Factorial number of given number.\n",
    "\n",
    "n=int(input(\"Enter a number:\"))\n",
    "fact=1\n",
    "\n",
    "for i in range(1,n+1):\n",
    "    fact=fact*i\n",
    "print(\"Factorial of\",n,\"is\",fact)"
   ]
  },
  {
   "cell_type": "code",
   "execution_count": null,
   "id": "4cd2f28d",
   "metadata": {
    "scrolled": true
   },
   "outputs": [],
   "source": [
    "# Write a Python program to get the Fibonacci series of given range.\n",
    "\n",
    "num = int(input(\"How many terms:\"))\n",
    "n1, n2 = 0, 1\n",
    "count = 0\n",
    "\n",
    "if num <= 0:\n",
    "   print(\"Please enter a positive integer:\")\n",
    "elif num == 1:\n",
    "   print(\"Fibonacci sequence upto\",num,\":\")\n",
    "   print(n1)\n",
    "else:\n",
    "   print(\"Fibonacci sequence:\")\n",
    "   while count < num:\n",
    "       print(n1)\n",
    "       nth = n1 + n2\n",
    "       n1 = n2\n",
    "       n2 = nth\n",
    "       count += 1"
   ]
  },
  {
   "cell_type": "code",
   "execution_count": null,
   "id": "4c2880bc",
   "metadata": {},
   "outputs": [],
   "source": [
    "# What is the purpose continue statement in python?\n",
    "# continus statement is used to skip that one iteration "
   ]
  },
  {
   "cell_type": "code",
   "execution_count": null,
   "id": "7a9d33dc",
   "metadata": {
    "scrolled": true
   },
   "outputs": [],
   "source": [
    "# Write python program that swap two number with temp variable\n",
    "n= int(input(\"Enter First number 'n' :\"))\n",
    "m= int(input(\"Enter Second number 'm' :\"))\n",
    "print(\"Before Swap:\")\n",
    "print(\"n:\",n,\"  m:\",m)\n",
    "temp=n\n",
    "n=m\n",
    "m=temp\n",
    "print(\"After Swap:\")\n",
    "print(\"n:\",n,\"  m:\",m)\n"
   ]
  },
  {
   "cell_type": "code",
   "execution_count": null,
   "id": "936c879c",
   "metadata": {
    "scrolled": true
   },
   "outputs": [],
   "source": [
    "# Write python program that swap two number without temp variable\n",
    "n= int(input(\"Enter First number 'n' :\"))\n",
    "m= int(input(\"Enter Second number 'm' :\"))\n",
    "print(\"Before Swap:\")\n",
    "print(\"n:\",n,\"  m:\",m)\n",
    "n=m+n\n",
    "m=n-m\n",
    "n=n-m\n",
    "print(\"After Swap:\")\n",
    "print(\"n:\",n,\"  m:\",m)"
   ]
  },
  {
   "cell_type": "code",
   "execution_count": null,
   "id": "3ce88ab2",
   "metadata": {},
   "outputs": [],
   "source": [
    "# Write a Python program to find whether a given number is even or odd,\n",
    "# print out an appropriate message to the user.\n",
    "n=int(input(\"Enter a number:\"))\n",
    "\n",
    "if n % 2 == 0 :\n",
    "    print(\"The number\",n,\"is even\")\n",
    "else :\n",
    "    print(\"The number\",n,\"is odd\")"
   ]
  },
  {
   "cell_type": "code",
   "execution_count": null,
   "id": "4dcec577",
   "metadata": {},
   "outputs": [],
   "source": [
    "# Write a Python program to test whether a passed letter is a vowel or not.\n",
    "n=input(\"Enter a single letter:\")\n",
    "\n",
    "if n in \"AEIOUaeiou\":\n",
    "    print(\"The Letter\",n,\"is a vowel\")\n",
    "else:\n",
    "        print(\"The Letter\",n,\"is a not vowel\")"
   ]
  },
  {
   "cell_type": "code",
   "execution_count": null,
   "id": "9f928880",
   "metadata": {},
   "outputs": [],
   "source": [
    "# Write a Python program to sum of three given integers.However, if two\n",
    "# values are equal sum will be zero.\n",
    "a=int(input(\"Enter first number:\"))\n",
    "b=int(input(\"Enter second number:\"))\n",
    "c=int(input(\"Enter third number:\"))\n",
    "\n",
    "if a==b or b==c or a==c:\n",
    "    print(\"Sum: 0\")\n",
    "else:\n",
    "    print(\"Sum:\",a+b+c)"
   ]
  },
  {
   "cell_type": "code",
   "execution_count": null,
   "id": "ee3ed2d4",
   "metadata": {},
   "outputs": [],
   "source": [
    "#. Write a Python program that will return true ifthe two given integervalues\n",
    "# are equal or their sum or difference is 5.\n",
    "a=int(input(\"Enter first number:\"))\n",
    "b=int(input(\"Enter second number:\"))\n",
    "\n",
    "if a==b or a+b == 5 or a-b==5:\n",
    "    print(True)\n"
   ]
  },
  {
   "cell_type": "code",
   "execution_count": null,
   "id": "b416edba",
   "metadata": {},
   "outputs": [],
   "source": [
    "# Write a python program to sum of the first n positive integers.\n",
    "n= int(input(\"Enter the nth number:\"))\n",
    "sum=0\n",
    "for i in range(n+1):\n",
    "    sum=sum+i\n",
    "\n",
    "print(\"Sum:\",sum)"
   ]
  },
  {
   "cell_type": "code",
   "execution_count": null,
   "id": "25fce03d",
   "metadata": {},
   "outputs": [],
   "source": [
    "# Write a Python program to calculate the length of a string.\n",
    "str=input(\"Enter a string:\")\n",
    "count=0\n",
    "for i in str:\n",
    "    count+=1\n",
    "print(\"The Length of String is:\",count)"
   ]
  },
  {
   "cell_type": "code",
   "execution_count": null,
   "id": "e2c9596b",
   "metadata": {
    "scrolled": true
   },
   "outputs": [],
   "source": [
    "# Write a Python program to count the number of characters (character\n",
    "# frequency) in a string\n",
    "str=input(\"Enter a string:\")\n",
    "str2=input(\"Enter a single character:\")\n",
    "count=0\n",
    "for i in str:\n",
    "    if i==str2:\n",
    "        count+=1\n",
    "print(\"Count of\",str2,\"is:\",count)"
   ]
  },
  {
   "cell_type": "code",
   "execution_count": null,
   "id": "567d3b4d",
   "metadata": {},
   "outputs": [],
   "source": [
    "# What are negative indexes and why are they used?\n",
    "# ans=python support index feature they are used to find the index of character in the string and index of negative start from left \n",
    "# to right from -1 to infinite"
   ]
  },
  {
   "cell_type": "code",
   "execution_count": null,
   "id": "98f9fed6",
   "metadata": {
    "scrolled": true
   },
   "outputs": [],
   "source": [
    "# Write a Python program to count occurrences of a substring in a string\n",
    "\n",
    "str=input('Enter a string:')\n",
    "sub_str=input('Enter a sub string:')\n",
    "print(str.count(sub_str))"
   ]
  },
  {
   "cell_type": "code",
   "execution_count": null,
   "id": "f1fb9729",
   "metadata": {
    "scrolled": true
   },
   "outputs": [],
   "source": [
    "# Write a Python program to count the occurrences of each word in a given\n",
    "# sentence\n",
    "\n",
    "str=input('Enter a string:')\n",
    "sub_str=input('Enter a sub string:')\n",
    "\n",
    "c=str.split()\n",
    "print(str.count(sub_str))"
   ]
  },
  {
   "cell_type": "code",
   "execution_count": null,
   "id": "36d15ddc",
   "metadata": {
    "scrolled": true
   },
   "outputs": [],
   "source": [
    "# Write a Python program to get a single string from two given strings,\n",
    "# separated by a space and swap the first two characters of each string\n",
    "\n",
    "str1=input(\"Enter first string\")\n",
    "str2=input(\"Enter second string\")\n",
    "\n",
    "a=str1[:2]\n",
    "b=str2[-2:]\n",
    "\n",
    "finalstr=b+str1[2:]+' '+str2[:-2]+a\n",
    "\n",
    "print(finalstr)"
   ]
  },
  {
   "cell_type": "code",
   "execution_count": 8,
   "id": "e9081d81",
   "metadata": {
    "scrolled": true
   },
   "outputs": [
    {
     "name": "stdout",
     "output_type": "stream",
     "text": [
      "Enter the string :Helloing\n",
      "Helloingly\n"
     ]
    }
   ],
   "source": [
    "# Write a Python program to add 'ing' at the end of a given string (length\n",
    "# should be at least 3). If the given string already ends with 'ing' then add 'ly'\n",
    "# instead if the string length of the given string is less than 3, leave it\n",
    "# unchanged.\n",
    "\n",
    "str=input('Enter the string :')\n",
    "if len(str)>3:\n",
    "    if(str[-3:]=='ing'):\n",
    "        print(str+''+\"ly\")\n",
    "    else:\n",
    "        str=str+\"ing\"\n",
    "        print(str)\n",
    "else:\n",
    "    print(str)"
   ]
  },
  {
   "cell_type": "code",
   "execution_count": null,
   "id": "36675698",
   "metadata": {},
   "outputs": [],
   "source": []
  }
 ],
 "metadata": {
  "kernelspec": {
   "display_name": "Python 3 (ipykernel)",
   "language": "python",
   "name": "python3"
  },
  "language_info": {
   "codemirror_mode": {
    "name": "ipython",
    "version": 3
   },
   "file_extension": ".py",
   "mimetype": "text/x-python",
   "name": "python",
   "nbconvert_exporter": "python",
   "pygments_lexer": "ipython3",
   "version": "3.9.12"
  }
 },
 "nbformat": 4,
 "nbformat_minor": 5
}
